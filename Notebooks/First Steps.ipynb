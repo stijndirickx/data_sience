{
 "cells": [
  {
   "cell_type": "markdown",
   "id": "22cd517b",
   "metadata": {},
   "source": [
    "# Markdown Cell Example\n",
    "\n",
    "## Basic Formatting\n",
    "\n",
    "### Text Styling\n",
    "\n",
    "*This text* is italicized.\n",
    "\n",
    "**This text** is bold.\n",
    "\n",
    "***This text*** is bold and italicized.\n",
    "\n",
    "### Lists\n",
    "\n",
    "#### Ordered List\n",
    "\n",
    "1. Item 1\n",
    "2. Item 2\n",
    "3. Item 3\n",
    "1. item 4\n",
    "\n",
    "#### Unordered List\n",
    "\n",
    "- Apple\n",
    "- Banana\n",
    "- Orange\n",
    "\n",
    "### Links\n",
    "\n",
    "[Visit Myself](http://localhost:8888/notebooks/First%20Steps.ipynb)\n",
    "\n",
    "## Cool Feature: Image Embedding\n",
    "\n",
    "![Cool Image](https://images.unsplash.com/photo-1551890483-e66d38871b2b?q=80&w=2069&auto=format&fit=crop&ixlib=rb-4.0.3&ixid=M3wxMjA3fDB8MHxwaG90by1wYWdlfHx8fGVufDB8fHx8fA%3D%3D)\n",
    "\n"
   ]
  },
  {
   "cell_type": "code",
   "execution_count": 6,
   "id": "e4c64663",
   "metadata": {},
   "outputs": [
    {
     "name": "stdout",
     "output_type": "stream",
     "text": [
      "Addition: 8\n",
      "Subtraction: 5\n",
      "Multiplication: 24\n",
      "Division: 4.0\n",
      "Exponentiation: 8\n",
      "Modulus: 3\n",
      "Floor Division: 3\n"
     ]
    }
   ],
   "source": [
    "# Addition\n",
    "result_addition = 5 + 3\n",
    "print(\"Addition:\", result_addition)\n",
    "\n",
    "# Subtraction\n",
    "result_subtraction = 7 - 2\n",
    "print(\"Subtraction:\", result_subtraction)\n",
    "\n",
    "# Multiplication\n",
    "result_multiplication = 4 * 6\n",
    "print(\"Multiplication:\", result_multiplication)\n",
    "\n",
    "# Division\n",
    "result_division = 8 / 2\n",
    "print(\"Division:\", result_division)\n",
    "\n",
    "# Exponentiation\n",
    "result_exponentiation = 2 ** 3\n",
    "print(\"Exponentiation:\", result_exponentiation)\n",
    "\n",
    "# Modulus\n",
    "result_modulus = 15 % 4\n",
    "print(\"Modulus:\", result_modulus)\n",
    "\n",
    "# Floor Division\n",
    "result_floor_division = 17 // 5\n",
    "print(\"Floor Division:\", result_floor_division)\n"
   ]
  },
  {
   "cell_type": "code",
   "execution_count": 5,
   "id": "14dbbca9",
   "metadata": {},
   "outputs": [
    {
     "name": "stdout",
     "output_type": "stream",
     "text": [
      "Enter name: Stijn\n",
      "hello Stijn\n"
     ]
    }
   ],
   "source": [
    "name = input('Enter name: ')\n",
    "print('hello',  name)"
   ]
  },
  {
   "cell_type": "code",
   "execution_count": null,
   "id": "c530fa35",
   "metadata": {},
   "outputs": [],
   "source": []
  }
 ],
 "metadata": {
  "kernelspec": {
   "display_name": "Python 3 (ipykernel)",
   "language": "python",
   "name": "python3"
  },
  "language_info": {
   "codemirror_mode": {
    "name": "ipython",
    "version": 3
   },
   "file_extension": ".py",
   "mimetype": "text/x-python",
   "name": "python",
   "nbconvert_exporter": "python",
   "pygments_lexer": "ipython3",
   "version": "3.11.5"
  },
  "toc": {
   "base_numbering": 1,
   "nav_menu": {},
   "number_sections": true,
   "sideBar": true,
   "skip_h1_title": false,
   "title_cell": "Table of Contents",
   "title_sidebar": "Contents",
   "toc_cell": false,
   "toc_position": {},
   "toc_section_display": true,
   "toc_window_display": false
  }
 },
 "nbformat": 4,
 "nbformat_minor": 5
}
